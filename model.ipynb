{
 "cells": [
  {
   "cell_type": "code",
   "execution_count": 75,
   "id": "b4f48441",
   "metadata": {},
   "outputs": [],
   "source": [
    "import numpy as np\n",
    "import pandas as pd\n",
    "import matplotlib.pyplot as plt\n",
    "from sklearn.preprocessing import MinMaxScaler\n",
    "from tensorflow.keras.models import Sequential\n",
    "from tensorflow.keras.layers import LSTM, Dense\n",
    "from tensorflow.keras.optimizers import Adam\n",
    "\n"
   ]
  },
  {
   "cell_type": "code",
   "execution_count": null,
   "id": "3a30114f",
   "metadata": {},
   "outputs": [],
   "source": [
    "def generate_synthetic_data(n_samples=1000, time_steps=1000, breakthrough_threshold=0.7):\n",
    "    np.random.seed(42)\n",
    "    \n",
    "    time = np.arange(time_steps)\n",
    "    bottomhole_pressure = 3000 - 5 * time + np.random.normal(0, 10, time_steps)\n",
    "    tubing_head_pressure = 1500 - 3 * time + np.random.normal(0, 5, time_steps)\n",
    "    oil_rate = 1000 - 0.5 * time + np.random.normal(0, 5, time_steps)  # Slower decline\n",
    "    \n",
    "    # Ensure water rate starts low and gradually increases\n",
    "    water_rate = np.maximum(0, 1 + 0.02 * time**2 + np.random.normal(0, 1, time_steps))\n",
    "    water_saturation = np.clip(0.1 + 0.0005 * time + np.random.normal(0, 0.002, time_steps), 0, 1)\n",
    "    \n",
    "    # Compute water cut but restrict initial values to <= 0.5\n",
    "    water_cut = water_rate / (water_rate + oil_rate)\n",
    "    water_cut = np.clip(water_cut, 0, 0.5)  # Restrict max water cut to 0.5 initially\n",
    "\n",
    "    # Introduce controlled growth beyond a certain time step to simulate breakthrough\n",
    "    breakthrough_start = int(0.7 * time_steps)  # Adjust this point as needed\n",
    "    water_cut[breakthrough_start:] = np.linspace(0.5, 0.8, time_steps - breakthrough_start)  # Gradual increase\n",
    "\n",
    "    data = pd.DataFrame({\n",
    "        'Time': time,\n",
    "        'BHP': bottomhole_pressure,\n",
    "        'THP': tubing_head_pressure,\n",
    "        'Oil_Rate': oil_rate,\n",
    "        'Water_Rate': water_rate,\n",
    "        'Water_Saturation': water_saturation,\n",
    "        'Water_Cut': water_cut\n",
    "    })\n",
    "    \n",
    "    return data"
   ]
  },
  {
   "cell_type": "code",
   "execution_count": null,
   "id": "1684cd9f",
   "metadata": {},
   "outputs": [],
   "source": [
    "# 2️⃣ Preprocessing & Scaling\n",
    "# --------------------------------------------\n",
    "features = ['BHP', 'THP', 'Oil_Rate', 'Water_Rate', 'Water_Saturation', 'Water_Cut']\n",
    "scaler = MinMaxScaler()\n",
    "df_scaled = pd.DataFrame(scaler.fit_transform(df[features]), columns=features)\n",
    "\n",
    "# Create sequences for LSTM\n",
    "def create_sequences(data, seq_length):\n",
    "    X, y = [], []\n",
    "    for i in range(len(data) - seq_length):\n",
    "        X.append(data.iloc[i:i+seq_length, :-1].values)  # All features except target\n",
    "        y.append(data.iloc[i+seq_length, -1])  # Target (Water Cut)\n",
    "    return np.array(X), np.array(y)\n",
    "\n",
    "SEQ_LENGTH = 10  # Sequence window\n",
    "X, y = create_sequences(df_scaled, SEQ_LENGTH)\n",
    "\n",
    "# Train-test split\n",
    "split_ratio = 0.8\n",
    "split_idx = int(len(X) * split_ratio)\n",
    "X_train, X_test = X[:split_idx], X[split_idx:]\n",
    "y_train, y_test = y[:split_idx], y[split_idx:]"
   ]
  },
  {
   "cell_type": "code",
   "execution_count": null,
   "id": "b6753021",
   "metadata": {},
   "outputs": [],
   "source": [
    "# 3️⃣ Build & Train LSTM Model\n",
    "# --------------------------------------------\n",
    "model = Sequential([\n",
    "    LSTM(50, activation='relu', return_sequences=True, input_shape=(SEQ_LENGTH, X.shape[2])),\n",
    "    LSTM(50, activation='relu'),\n",
    "    Dense(25, activation='relu'),\n",
    "    Dense(1)\n",
    "])"
   ]
  },
  {
   "cell_type": "code",
   "execution_count": null,
   "id": "41d98b81",
   "metadata": {},
   "outputs": [],
   "source": [
    "model.compile(optimizer=Adam(learning_rate=0.001), loss='mse')\n",
    "\n",
    "# Train model\n",
    "history = model.fit(X_train, y_train, epochs=50, batch_size=32, validation_data=(X_test, y_test), verbose=1)\n"
   ]
  },
  {
   "cell_type": "code",
   "execution_count": null,
   "id": "9e8d86b8",
   "metadata": {},
   "outputs": [],
   "source": [
    "# 4️⃣ Make Predictions & Fix Scaling Issue\n",
    "# --------------------------------------------\n",
    "predictions = model.predict(X_test)\n",
    "\n",
    "# Fix scaling issue (ensure proper inverse transform)\n",
    "num_features = X_test.shape[2]\n",
    "temp_array = np.zeros((len(y_test), num_features + 1))\n",
    "temp_array[:, :-1] = X_test[:, -1, :]\n",
    "temp_array[:, -1] = y_test\n",
    "y_test_rescaled = scaler.inverse_transform(temp_array)[:, -1]\n",
    "\n",
    "temp_array[:, -1] = predictions.flatten()\n",
    "predictions_rescaled = scaler.inverse_transform(temp_array)[:, -1]"
   ]
  },
  {
   "cell_type": "code",
   "execution_count": null,
   "id": "e14df9c4",
   "metadata": {},
   "outputs": [],
   "source": [
    "# 5️⃣ Detect Breakthrough Time\n",
    "# --------------------------------------------\n",
    "breakthrough_threshold = 0.7\n",
    "predicted_breakthrough_time = np.argmax(predictions_rescaled > breakthrough_threshold)\n"
   ]
  },
  {
   "cell_type": "code",
   "execution_count": null,
   "id": "a11e2906",
   "metadata": {},
   "outputs": [],
   "source": [
    "# 6️⃣ Plot Results\n",
    "# --------------------------------------------\n",
    "plt.figure(figsize=(12, 6))\n",
    "plt.plot(y_test_rescaled, label='Actual Water Cut')\n",
    "plt.plot(predictions_rescaled, label='Predicted Future Water Cut')\n",
    "plt.axhline(y=breakthrough_threshold, color='r', linestyle='--', label='Breakthrough Threshold')\n",
    "plt.legend()\n",
    "plt.title('LSTM-Based Water Cut Prediction & Breakthrough Detection')\n",
    "plt.xlabel(\"Time Step\")\n",
    "plt.ylabel(\"Water Cut\")\n",
    "plt.grid()\n",
    "plt.savefig(\"water_cut_prediction.png\", dpi=300)\n",
    "plt.show()\n",
    "\n",
    "print(f'Predicted breakthrough occurs at future time step: {predicted_breakthrough_time}')\n"
   ]
  }
 ],
 "metadata": {
  "kernelspec": {
   "display_name": "Python 3 (ipykernel)",
   "language": "python",
   "name": "python3"
  },
  "language_info": {
   "codemirror_mode": {
    "name": "ipython",
    "version": 3
   },
   "file_extension": ".py",
   "mimetype": "text/x-python",
   "name": "python",
   "nbconvert_exporter": "python",
   "pygments_lexer": "ipython3",
   "version": "3.9.13"
  }
 },
 "nbformat": 4,
 "nbformat_minor": 5
}
